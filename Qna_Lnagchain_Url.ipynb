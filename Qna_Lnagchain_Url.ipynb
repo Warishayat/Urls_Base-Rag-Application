{
 "nbformat": 4,
 "nbformat_minor": 0,
 "metadata": {
  "colab": {
   "provenance": [],
   "gpuType": "T4"
  },
  "kernelspec": {
   "name": "python3",
   "display_name": "Python 3"
  },
  "language_info": {
   "name": "python"
  },
  "accelerator": "GPU"
 },
 "cells": [
  {
   "cell_type": "code",
   "execution_count": 2,
   "metadata": {
    "id": "g0YJTMsXnpbE"
   },
   "outputs": [],
   "source": [
    "import pandas as pd\n",
    "import numpy as np\n",
    "import matplotlib.pyplot as plt\n",
    "import seaborn as sns\n",
    "import langchain\n",
    "\n",
    "#AIza00000000000000000000000000 use your own api this api will not work in your case."
   ]
  },
  {
   "cell_type": "code",
   "source": [
    "!pip install faiss-cpu\n",
    "!pip install langchain\n",
    "!pip install langchain_community"
   ],
   "metadata": {
    "colab": {
     "base_uri": "https://localhost:8080/"
    },
    "id": "6ffg80tLoWtD",
    "outputId": "3a2de975-86d1-4be0-aaec-10f268841b16"
   },
   "execution_count": 3,
   "outputs": [
    {
     "output_type": "stream",
     "name": "stdout",
     "text": [
      "Collecting faiss-cpu\n",
      "  Downloading faiss_cpu-1.9.0-cp310-cp310-manylinux_2_17_x86_64.manylinux2014_x86_64.whl.metadata (4.4 kB)\n",
      "Requirement already satisfied: numpy<3.0,>=1.25.0 in /usr/local/lib/python3.10/dist-packages (from faiss-cpu) (1.26.4)\n",
      "Requirement already satisfied: packaging in /usr/local/lib/python3.10/dist-packages (from faiss-cpu) (24.2)\n",
      "Downloading faiss_cpu-1.9.0-cp310-cp310-manylinux_2_17_x86_64.manylinux2014_x86_64.whl (27.5 MB)\n",
      "\u001B[2K   \u001B[90m━━━━━━━━━━━━━━━━━━━━━━━━━━━━━━━━━━━━━━━━\u001B[0m \u001B[32m27.5/27.5 MB\u001B[0m \u001B[31m78.9 MB/s\u001B[0m eta \u001B[36m0:00:00\u001B[0m\n",
      "\u001B[?25hInstalling collected packages: faiss-cpu\n",
      "Successfully installed faiss-cpu-1.9.0\n",
      "\u001B[31mERROR: Could not find a version that satisfies the requirement google_genai (from versions: none)\u001B[0m\u001B[31m\n",
      "\u001B[0m\u001B[31mERROR: No matching distribution found for google_genai\u001B[0m\u001B[31m\n",
      "\u001B[0mRequirement already satisfied: langchain in /usr/local/lib/python3.10/dist-packages (0.3.7)\n",
      "Requirement already satisfied: PyYAML>=5.3 in /usr/local/lib/python3.10/dist-packages (from langchain) (6.0.2)\n",
      "Requirement already satisfied: SQLAlchemy<3,>=1.4 in /usr/local/lib/python3.10/dist-packages (from langchain) (2.0.36)\n",
      "Requirement already satisfied: aiohttp<4.0.0,>=3.8.3 in /usr/local/lib/python3.10/dist-packages (from langchain) (3.10.10)\n",
      "Requirement already satisfied: async-timeout<5.0.0,>=4.0.0 in /usr/local/lib/python3.10/dist-packages (from langchain) (4.0.3)\n",
      "Requirement already satisfied: langchain-core<0.4.0,>=0.3.15 in /usr/local/lib/python3.10/dist-packages (from langchain) (0.3.17)\n",
      "Requirement already satisfied: langchain-text-splitters<0.4.0,>=0.3.0 in /usr/local/lib/python3.10/dist-packages (from langchain) (0.3.2)\n",
      "Requirement already satisfied: langsmith<0.2.0,>=0.1.17 in /usr/local/lib/python3.10/dist-packages (from langchain) (0.1.142)\n",
      "Requirement already satisfied: numpy<2,>=1 in /usr/local/lib/python3.10/dist-packages (from langchain) (1.26.4)\n",
      "Requirement already satisfied: pydantic<3.0.0,>=2.7.4 in /usr/local/lib/python3.10/dist-packages (from langchain) (2.9.2)\n",
      "Requirement already satisfied: requests<3,>=2 in /usr/local/lib/python3.10/dist-packages (from langchain) (2.32.3)\n",
      "Requirement already satisfied: tenacity!=8.4.0,<10,>=8.1.0 in /usr/local/lib/python3.10/dist-packages (from langchain) (9.0.0)\n",
      "Requirement already satisfied: aiohappyeyeballs>=2.3.0 in /usr/local/lib/python3.10/dist-packages (from aiohttp<4.0.0,>=3.8.3->langchain) (2.4.3)\n",
      "Requirement already satisfied: aiosignal>=1.1.2 in /usr/local/lib/python3.10/dist-packages (from aiohttp<4.0.0,>=3.8.3->langchain) (1.3.1)\n",
      "Requirement already satisfied: attrs>=17.3.0 in /usr/local/lib/python3.10/dist-packages (from aiohttp<4.0.0,>=3.8.3->langchain) (24.2.0)\n",
      "Requirement already satisfied: frozenlist>=1.1.1 in /usr/local/lib/python3.10/dist-packages (from aiohttp<4.0.0,>=3.8.3->langchain) (1.5.0)\n",
      "Requirement already satisfied: multidict<7.0,>=4.5 in /usr/local/lib/python3.10/dist-packages (from aiohttp<4.0.0,>=3.8.3->langchain) (6.1.0)\n",
      "Requirement already satisfied: yarl<2.0,>=1.12.0 in /usr/local/lib/python3.10/dist-packages (from aiohttp<4.0.0,>=3.8.3->langchain) (1.17.1)\n",
      "Requirement already satisfied: jsonpatch<2.0,>=1.33 in /usr/local/lib/python3.10/dist-packages (from langchain-core<0.4.0,>=0.3.15->langchain) (1.33)\n",
      "Requirement already satisfied: packaging<25,>=23.2 in /usr/local/lib/python3.10/dist-packages (from langchain-core<0.4.0,>=0.3.15->langchain) (24.2)\n",
      "Requirement already satisfied: typing-extensions>=4.7 in /usr/local/lib/python3.10/dist-packages (from langchain-core<0.4.0,>=0.3.15->langchain) (4.12.2)\n",
      "Requirement already satisfied: httpx<1,>=0.23.0 in /usr/local/lib/python3.10/dist-packages (from langsmith<0.2.0,>=0.1.17->langchain) (0.27.2)\n",
      "Requirement already satisfied: orjson<4.0.0,>=3.9.14 in /usr/local/lib/python3.10/dist-packages (from langsmith<0.2.0,>=0.1.17->langchain) (3.10.11)\n",
      "Requirement already satisfied: requests-toolbelt<2.0.0,>=1.0.0 in /usr/local/lib/python3.10/dist-packages (from langsmith<0.2.0,>=0.1.17->langchain) (1.0.0)\n",
      "Requirement already satisfied: annotated-types>=0.6.0 in /usr/local/lib/python3.10/dist-packages (from pydantic<3.0.0,>=2.7.4->langchain) (0.7.0)\n",
      "Requirement already satisfied: pydantic-core==2.23.4 in /usr/local/lib/python3.10/dist-packages (from pydantic<3.0.0,>=2.7.4->langchain) (2.23.4)\n",
      "Requirement already satisfied: charset-normalizer<4,>=2 in /usr/local/lib/python3.10/dist-packages (from requests<3,>=2->langchain) (3.4.0)\n",
      "Requirement already satisfied: idna<4,>=2.5 in /usr/local/lib/python3.10/dist-packages (from requests<3,>=2->langchain) (3.10)\n",
      "Requirement already satisfied: urllib3<3,>=1.21.1 in /usr/local/lib/python3.10/dist-packages (from requests<3,>=2->langchain) (2.2.3)\n",
      "Requirement already satisfied: certifi>=2017.4.17 in /usr/local/lib/python3.10/dist-packages (from requests<3,>=2->langchain) (2024.8.30)\n",
      "Requirement already satisfied: greenlet!=0.4.17 in /usr/local/lib/python3.10/dist-packages (from SQLAlchemy<3,>=1.4->langchain) (3.1.1)\n",
      "Requirement already satisfied: anyio in /usr/local/lib/python3.10/dist-packages (from httpx<1,>=0.23.0->langsmith<0.2.0,>=0.1.17->langchain) (3.7.1)\n",
      "Requirement already satisfied: httpcore==1.* in /usr/local/lib/python3.10/dist-packages (from httpx<1,>=0.23.0->langsmith<0.2.0,>=0.1.17->langchain) (1.0.6)\n",
      "Requirement already satisfied: sniffio in /usr/local/lib/python3.10/dist-packages (from httpx<1,>=0.23.0->langsmith<0.2.0,>=0.1.17->langchain) (1.3.1)\n",
      "Requirement already satisfied: h11<0.15,>=0.13 in /usr/local/lib/python3.10/dist-packages (from httpcore==1.*->httpx<1,>=0.23.0->langsmith<0.2.0,>=0.1.17->langchain) (0.14.0)\n",
      "Requirement already satisfied: jsonpointer>=1.9 in /usr/local/lib/python3.10/dist-packages (from jsonpatch<2.0,>=1.33->langchain-core<0.4.0,>=0.3.15->langchain) (3.0.0)\n",
      "Requirement already satisfied: propcache>=0.2.0 in /usr/local/lib/python3.10/dist-packages (from yarl<2.0,>=1.12.0->aiohttp<4.0.0,>=3.8.3->langchain) (0.2.0)\n",
      "Requirement already satisfied: exceptiongroup in /usr/local/lib/python3.10/dist-packages (from anyio->httpx<1,>=0.23.0->langsmith<0.2.0,>=0.1.17->langchain) (1.2.2)\n",
      "Collecting langchain_community\n",
      "  Downloading langchain_community-0.3.7-py3-none-any.whl.metadata (2.9 kB)\n",
      "Requirement already satisfied: PyYAML>=5.3 in /usr/local/lib/python3.10/dist-packages (from langchain_community) (6.0.2)\n",
      "Collecting SQLAlchemy<2.0.36,>=1.4 (from langchain_community)\n",
      "  Downloading SQLAlchemy-2.0.35-cp310-cp310-manylinux_2_17_x86_64.manylinux2014_x86_64.whl.metadata (9.6 kB)\n",
      "Requirement already satisfied: aiohttp<4.0.0,>=3.8.3 in /usr/local/lib/python3.10/dist-packages (from langchain_community) (3.10.10)\n",
      "Collecting dataclasses-json<0.7,>=0.5.7 (from langchain_community)\n",
      "  Downloading dataclasses_json-0.6.7-py3-none-any.whl.metadata (25 kB)\n",
      "Collecting httpx-sse<0.5.0,>=0.4.0 (from langchain_community)\n",
      "  Downloading httpx_sse-0.4.0-py3-none-any.whl.metadata (9.0 kB)\n",
      "Requirement already satisfied: langchain<0.4.0,>=0.3.7 in /usr/local/lib/python3.10/dist-packages (from langchain_community) (0.3.7)\n",
      "Requirement already satisfied: langchain-core<0.4.0,>=0.3.17 in /usr/local/lib/python3.10/dist-packages (from langchain_community) (0.3.17)\n",
      "Requirement already satisfied: langsmith<0.2.0,>=0.1.125 in /usr/local/lib/python3.10/dist-packages (from langchain_community) (0.1.142)\n",
      "Requirement already satisfied: numpy<2,>=1 in /usr/local/lib/python3.10/dist-packages (from langchain_community) (1.26.4)\n",
      "Collecting pydantic-settings<3.0.0,>=2.4.0 (from langchain_community)\n",
      "  Downloading pydantic_settings-2.6.1-py3-none-any.whl.metadata (3.5 kB)\n",
      "Requirement already satisfied: requests<3,>=2 in /usr/local/lib/python3.10/dist-packages (from langchain_community) (2.32.3)\n",
      "Requirement already satisfied: tenacity!=8.4.0,<10,>=8.1.0 in /usr/local/lib/python3.10/dist-packages (from langchain_community) (9.0.0)\n",
      "Requirement already satisfied: aiohappyeyeballs>=2.3.0 in /usr/local/lib/python3.10/dist-packages (from aiohttp<4.0.0,>=3.8.3->langchain_community) (2.4.3)\n",
      "Requirement already satisfied: aiosignal>=1.1.2 in /usr/local/lib/python3.10/dist-packages (from aiohttp<4.0.0,>=3.8.3->langchain_community) (1.3.1)\n",
      "Requirement already satisfied: attrs>=17.3.0 in /usr/local/lib/python3.10/dist-packages (from aiohttp<4.0.0,>=3.8.3->langchain_community) (24.2.0)\n",
      "Requirement already satisfied: frozenlist>=1.1.1 in /usr/local/lib/python3.10/dist-packages (from aiohttp<4.0.0,>=3.8.3->langchain_community) (1.5.0)\n",
      "Requirement already satisfied: multidict<7.0,>=4.5 in /usr/local/lib/python3.10/dist-packages (from aiohttp<4.0.0,>=3.8.3->langchain_community) (6.1.0)\n",
      "Requirement already satisfied: yarl<2.0,>=1.12.0 in /usr/local/lib/python3.10/dist-packages (from aiohttp<4.0.0,>=3.8.3->langchain_community) (1.17.1)\n",
      "Requirement already satisfied: async-timeout<5.0,>=4.0 in /usr/local/lib/python3.10/dist-packages (from aiohttp<4.0.0,>=3.8.3->langchain_community) (4.0.3)\n",
      "Collecting marshmallow<4.0.0,>=3.18.0 (from dataclasses-json<0.7,>=0.5.7->langchain_community)\n",
      "  Downloading marshmallow-3.23.1-py3-none-any.whl.metadata (7.5 kB)\n",
      "Collecting typing-inspect<1,>=0.4.0 (from dataclasses-json<0.7,>=0.5.7->langchain_community)\n",
      "  Downloading typing_inspect-0.9.0-py3-none-any.whl.metadata (1.5 kB)\n",
      "Requirement already satisfied: langchain-text-splitters<0.4.0,>=0.3.0 in /usr/local/lib/python3.10/dist-packages (from langchain<0.4.0,>=0.3.7->langchain_community) (0.3.2)\n",
      "Requirement already satisfied: pydantic<3.0.0,>=2.7.4 in /usr/local/lib/python3.10/dist-packages (from langchain<0.4.0,>=0.3.7->langchain_community) (2.9.2)\n",
      "Requirement already satisfied: jsonpatch<2.0,>=1.33 in /usr/local/lib/python3.10/dist-packages (from langchain-core<0.4.0,>=0.3.17->langchain_community) (1.33)\n",
      "Requirement already satisfied: packaging<25,>=23.2 in /usr/local/lib/python3.10/dist-packages (from langchain-core<0.4.0,>=0.3.17->langchain_community) (24.2)\n",
      "Requirement already satisfied: typing-extensions>=4.7 in /usr/local/lib/python3.10/dist-packages (from langchain-core<0.4.0,>=0.3.17->langchain_community) (4.12.2)\n",
      "Requirement already satisfied: httpx<1,>=0.23.0 in /usr/local/lib/python3.10/dist-packages (from langsmith<0.2.0,>=0.1.125->langchain_community) (0.27.2)\n",
      "Requirement already satisfied: orjson<4.0.0,>=3.9.14 in /usr/local/lib/python3.10/dist-packages (from langsmith<0.2.0,>=0.1.125->langchain_community) (3.10.11)\n",
      "Requirement already satisfied: requests-toolbelt<2.0.0,>=1.0.0 in /usr/local/lib/python3.10/dist-packages (from langsmith<0.2.0,>=0.1.125->langchain_community) (1.0.0)\n",
      "Collecting python-dotenv>=0.21.0 (from pydantic-settings<3.0.0,>=2.4.0->langchain_community)\n",
      "  Downloading python_dotenv-1.0.1-py3-none-any.whl.metadata (23 kB)\n",
      "Requirement already satisfied: charset-normalizer<4,>=2 in /usr/local/lib/python3.10/dist-packages (from requests<3,>=2->langchain_community) (3.4.0)\n",
      "Requirement already satisfied: idna<4,>=2.5 in /usr/local/lib/python3.10/dist-packages (from requests<3,>=2->langchain_community) (3.10)\n",
      "Requirement already satisfied: urllib3<3,>=1.21.1 in /usr/local/lib/python3.10/dist-packages (from requests<3,>=2->langchain_community) (2.2.3)\n",
      "Requirement already satisfied: certifi>=2017.4.17 in /usr/local/lib/python3.10/dist-packages (from requests<3,>=2->langchain_community) (2024.8.30)\n",
      "Requirement already satisfied: greenlet!=0.4.17 in /usr/local/lib/python3.10/dist-packages (from SQLAlchemy<2.0.36,>=1.4->langchain_community) (3.1.1)\n",
      "Requirement already satisfied: anyio in /usr/local/lib/python3.10/dist-packages (from httpx<1,>=0.23.0->langsmith<0.2.0,>=0.1.125->langchain_community) (3.7.1)\n",
      "Requirement already satisfied: httpcore==1.* in /usr/local/lib/python3.10/dist-packages (from httpx<1,>=0.23.0->langsmith<0.2.0,>=0.1.125->langchain_community) (1.0.6)\n",
      "Requirement already satisfied: sniffio in /usr/local/lib/python3.10/dist-packages (from httpx<1,>=0.23.0->langsmith<0.2.0,>=0.1.125->langchain_community) (1.3.1)\n",
      "Requirement already satisfied: h11<0.15,>=0.13 in /usr/local/lib/python3.10/dist-packages (from httpcore==1.*->httpx<1,>=0.23.0->langsmith<0.2.0,>=0.1.125->langchain_community) (0.14.0)\n",
      "Requirement already satisfied: jsonpointer>=1.9 in /usr/local/lib/python3.10/dist-packages (from jsonpatch<2.0,>=1.33->langchain-core<0.4.0,>=0.3.17->langchain_community) (3.0.0)\n",
      "Requirement already satisfied: annotated-types>=0.6.0 in /usr/local/lib/python3.10/dist-packages (from pydantic<3.0.0,>=2.7.4->langchain<0.4.0,>=0.3.7->langchain_community) (0.7.0)\n",
      "Requirement already satisfied: pydantic-core==2.23.4 in /usr/local/lib/python3.10/dist-packages (from pydantic<3.0.0,>=2.7.4->langchain<0.4.0,>=0.3.7->langchain_community) (2.23.4)\n",
      "Collecting mypy-extensions>=0.3.0 (from typing-inspect<1,>=0.4.0->dataclasses-json<0.7,>=0.5.7->langchain_community)\n",
      "  Downloading mypy_extensions-1.0.0-py3-none-any.whl.metadata (1.1 kB)\n",
      "Requirement already satisfied: propcache>=0.2.0 in /usr/local/lib/python3.10/dist-packages (from yarl<2.0,>=1.12.0->aiohttp<4.0.0,>=3.8.3->langchain_community) (0.2.0)\n",
      "Requirement already satisfied: exceptiongroup in /usr/local/lib/python3.10/dist-packages (from anyio->httpx<1,>=0.23.0->langsmith<0.2.0,>=0.1.125->langchain_community) (1.2.2)\n",
      "Downloading langchain_community-0.3.7-py3-none-any.whl (2.4 MB)\n",
      "\u001B[2K   \u001B[90m━━━━━━━━━━━━━━━━━━━━━━━━━━━━━━━━━━━━━━━━\u001B[0m \u001B[32m2.4/2.4 MB\u001B[0m \u001B[31m40.3 MB/s\u001B[0m eta \u001B[36m0:00:00\u001B[0m\n",
      "\u001B[?25hDownloading dataclasses_json-0.6.7-py3-none-any.whl (28 kB)\n",
      "Downloading httpx_sse-0.4.0-py3-none-any.whl (7.8 kB)\n",
      "Downloading pydantic_settings-2.6.1-py3-none-any.whl (28 kB)\n",
      "Downloading SQLAlchemy-2.0.35-cp310-cp310-manylinux_2_17_x86_64.manylinux2014_x86_64.whl (3.1 MB)\n",
      "\u001B[2K   \u001B[90m━━━━━━━━━━━━━━━━━━━━━━━━━━━━━━━━━━━━━━━━\u001B[0m \u001B[32m3.1/3.1 MB\u001B[0m \u001B[31m88.8 MB/s\u001B[0m eta \u001B[36m0:00:00\u001B[0m\n",
      "\u001B[?25hDownloading marshmallow-3.23.1-py3-none-any.whl (49 kB)\n",
      "\u001B[2K   \u001B[90m━━━━━━━━━━━━━━━━━━━━━━━━━━━━━━━━━━━━━━━━\u001B[0m \u001B[32m49.5/49.5 kB\u001B[0m \u001B[31m4.6 MB/s\u001B[0m eta \u001B[36m0:00:00\u001B[0m\n",
      "\u001B[?25hDownloading python_dotenv-1.0.1-py3-none-any.whl (19 kB)\n",
      "Downloading typing_inspect-0.9.0-py3-none-any.whl (8.8 kB)\n",
      "Downloading mypy_extensions-1.0.0-py3-none-any.whl (4.7 kB)\n",
      "Installing collected packages: SQLAlchemy, python-dotenv, mypy-extensions, marshmallow, httpx-sse, typing-inspect, pydantic-settings, dataclasses-json, langchain_community\n",
      "  Attempting uninstall: SQLAlchemy\n",
      "    Found existing installation: SQLAlchemy 2.0.36\n",
      "    Uninstalling SQLAlchemy-2.0.36:\n",
      "      Successfully uninstalled SQLAlchemy-2.0.36\n",
      "Successfully installed SQLAlchemy-2.0.35 dataclasses-json-0.6.7 httpx-sse-0.4.0 langchain_community-0.3.7 marshmallow-3.23.1 mypy-extensions-1.0.0 pydantic-settings-2.6.1 python-dotenv-1.0.1 typing-inspect-0.9.0\n"
     ]
    }
   ]
  },
  {
   "cell_type": "code",
   "source": [
    "!pip install unstructured"
   ],
   "metadata": {
    "colab": {
     "base_uri": "https://localhost:8080/"
    },
    "id": "hxP89huVu6IH",
    "outputId": "30c885bf-f27f-498f-f702-05f015fd4470"
   },
   "execution_count": 7,
   "outputs": [
    {
     "output_type": "stream",
     "name": "stdout",
     "text": [
      "Collecting unstructured\n",
      "  Downloading unstructured-0.16.5-py3-none-any.whl.metadata (24 kB)\n",
      "Requirement already satisfied: chardet in /usr/local/lib/python3.10/dist-packages (from unstructured) (5.2.0)\n",
      "Collecting filetype (from unstructured)\n",
      "  Downloading filetype-1.2.0-py2.py3-none-any.whl.metadata (6.5 kB)\n",
      "Collecting python-magic (from unstructured)\n",
      "  Downloading python_magic-0.4.27-py2.py3-none-any.whl.metadata (5.8 kB)\n",
      "Requirement already satisfied: lxml in /usr/local/lib/python3.10/dist-packages (from unstructured) (5.3.0)\n",
      "Requirement already satisfied: nltk in /usr/local/lib/python3.10/dist-packages (from unstructured) (3.9.1)\n",
      "Requirement already satisfied: requests in /usr/local/lib/python3.10/dist-packages (from unstructured) (2.32.3)\n",
      "Requirement already satisfied: beautifulsoup4 in /usr/local/lib/python3.10/dist-packages (from unstructured) (4.12.3)\n",
      "Collecting emoji (from unstructured)\n",
      "  Downloading emoji-2.14.0-py3-none-any.whl.metadata (5.7 kB)\n",
      "Requirement already satisfied: dataclasses-json in /usr/local/lib/python3.10/dist-packages (from unstructured) (0.6.7)\n",
      "Collecting python-iso639 (from unstructured)\n",
      "  Downloading python_iso639-2024.10.22-py3-none-any.whl.metadata (13 kB)\n",
      "Collecting langdetect (from unstructured)\n",
      "  Downloading langdetect-1.0.9.tar.gz (981 kB)\n",
      "\u001B[2K     \u001B[90m━━━━━━━━━━━━━━━━━━━━━━━━━━━━━━━━━━━━━━━━\u001B[0m \u001B[32m981.5/981.5 kB\u001B[0m \u001B[31m23.0 MB/s\u001B[0m eta \u001B[36m0:00:00\u001B[0m\n",
      "\u001B[?25h  Preparing metadata (setup.py) ... \u001B[?25l\u001B[?25hdone\n",
      "Requirement already satisfied: numpy<2 in /usr/local/lib/python3.10/dist-packages (from unstructured) (1.26.4)\n",
      "Collecting rapidfuzz (from unstructured)\n",
      "  Downloading rapidfuzz-3.10.1-cp310-cp310-manylinux_2_17_x86_64.manylinux2014_x86_64.whl.metadata (11 kB)\n",
      "Collecting backoff (from unstructured)\n",
      "  Downloading backoff-2.2.1-py3-none-any.whl.metadata (14 kB)\n",
      "Requirement already satisfied: typing-extensions in /usr/local/lib/python3.10/dist-packages (from unstructured) (4.12.2)\n",
      "Collecting unstructured-client (from unstructured)\n",
      "  Downloading unstructured_client-0.27.0-py3-none-any.whl.metadata (20 kB)\n",
      "Requirement already satisfied: wrapt in /usr/local/lib/python3.10/dist-packages (from unstructured) (1.16.0)\n",
      "Requirement already satisfied: tqdm in /usr/local/lib/python3.10/dist-packages (from unstructured) (4.66.6)\n",
      "Requirement already satisfied: psutil in /usr/local/lib/python3.10/dist-packages (from unstructured) (5.9.5)\n",
      "Collecting python-oxmsg (from unstructured)\n",
      "  Downloading python_oxmsg-0.0.1-py3-none-any.whl.metadata (5.0 kB)\n",
      "Requirement already satisfied: html5lib in /usr/local/lib/python3.10/dist-packages (from unstructured) (1.1)\n",
      "Requirement already satisfied: soupsieve>1.2 in /usr/local/lib/python3.10/dist-packages (from beautifulsoup4->unstructured) (2.6)\n",
      "Requirement already satisfied: marshmallow<4.0.0,>=3.18.0 in /usr/local/lib/python3.10/dist-packages (from dataclasses-json->unstructured) (3.23.1)\n",
      "Requirement already satisfied: typing-inspect<1,>=0.4.0 in /usr/local/lib/python3.10/dist-packages (from dataclasses-json->unstructured) (0.9.0)\n",
      "Requirement already satisfied: six>=1.9 in /usr/local/lib/python3.10/dist-packages (from html5lib->unstructured) (1.16.0)\n",
      "Requirement already satisfied: webencodings in /usr/local/lib/python3.10/dist-packages (from html5lib->unstructured) (0.5.1)\n",
      "Requirement already satisfied: click in /usr/local/lib/python3.10/dist-packages (from nltk->unstructured) (8.1.7)\n",
      "Requirement already satisfied: joblib in /usr/local/lib/python3.10/dist-packages (from nltk->unstructured) (1.4.2)\n",
      "Requirement already satisfied: regex>=2021.8.3 in /usr/local/lib/python3.10/dist-packages (from nltk->unstructured) (2024.9.11)\n",
      "Collecting olefile (from python-oxmsg->unstructured)\n",
      "  Downloading olefile-0.47-py2.py3-none-any.whl.metadata (9.7 kB)\n",
      "Requirement already satisfied: charset-normalizer<4,>=2 in /usr/local/lib/python3.10/dist-packages (from requests->unstructured) (3.4.0)\n",
      "Requirement already satisfied: idna<4,>=2.5 in /usr/local/lib/python3.10/dist-packages (from requests->unstructured) (3.10)\n",
      "Requirement already satisfied: urllib3<3,>=1.21.1 in /usr/local/lib/python3.10/dist-packages (from requests->unstructured) (2.2.3)\n",
      "Requirement already satisfied: certifi>=2017.4.17 in /usr/local/lib/python3.10/dist-packages (from requests->unstructured) (2024.8.30)\n",
      "Requirement already satisfied: cryptography>=3.1 in /usr/local/lib/python3.10/dist-packages (from unstructured-client->unstructured) (43.0.3)\n",
      "Requirement already satisfied: eval-type-backport<0.3.0,>=0.2.0 in /usr/local/lib/python3.10/dist-packages (from unstructured-client->unstructured) (0.2.0)\n",
      "Requirement already satisfied: httpx>=0.27.0 in /usr/local/lib/python3.10/dist-packages (from unstructured-client->unstructured) (0.27.2)\n",
      "Collecting jsonpath-python<2.0.0,>=1.0.6 (from unstructured-client->unstructured)\n",
      "  Downloading jsonpath_python-1.0.6-py3-none-any.whl.metadata (12 kB)\n",
      "Requirement already satisfied: nest-asyncio>=1.6.0 in /usr/local/lib/python3.10/dist-packages (from unstructured-client->unstructured) (1.6.0)\n",
      "Requirement already satisfied: pydantic<2.10.0,>=2.9.2 in /usr/local/lib/python3.10/dist-packages (from unstructured-client->unstructured) (2.9.2)\n",
      "Collecting pypdf>=4.0 (from unstructured-client->unstructured)\n",
      "  Downloading pypdf-5.1.0-py3-none-any.whl.metadata (7.2 kB)\n",
      "Requirement already satisfied: python-dateutil==2.8.2 in /usr/local/lib/python3.10/dist-packages (from unstructured-client->unstructured) (2.8.2)\n",
      "Requirement already satisfied: requests-toolbelt>=1.0.0 in /usr/local/lib/python3.10/dist-packages (from unstructured-client->unstructured) (1.0.0)\n",
      "Requirement already satisfied: cffi>=1.12 in /usr/local/lib/python3.10/dist-packages (from cryptography>=3.1->unstructured-client->unstructured) (1.17.1)\n",
      "Requirement already satisfied: anyio in /usr/local/lib/python3.10/dist-packages (from httpx>=0.27.0->unstructured-client->unstructured) (3.7.1)\n",
      "Requirement already satisfied: httpcore==1.* in /usr/local/lib/python3.10/dist-packages (from httpx>=0.27.0->unstructured-client->unstructured) (1.0.6)\n",
      "Requirement already satisfied: sniffio in /usr/local/lib/python3.10/dist-packages (from httpx>=0.27.0->unstructured-client->unstructured) (1.3.1)\n",
      "Requirement already satisfied: h11<0.15,>=0.13 in /usr/local/lib/python3.10/dist-packages (from httpcore==1.*->httpx>=0.27.0->unstructured-client->unstructured) (0.14.0)\n",
      "Requirement already satisfied: packaging>=17.0 in /usr/local/lib/python3.10/dist-packages (from marshmallow<4.0.0,>=3.18.0->dataclasses-json->unstructured) (24.2)\n",
      "Requirement already satisfied: annotated-types>=0.6.0 in /usr/local/lib/python3.10/dist-packages (from pydantic<2.10.0,>=2.9.2->unstructured-client->unstructured) (0.7.0)\n",
      "Requirement already satisfied: pydantic-core==2.23.4 in /usr/local/lib/python3.10/dist-packages (from pydantic<2.10.0,>=2.9.2->unstructured-client->unstructured) (2.23.4)\n",
      "Requirement already satisfied: mypy-extensions>=0.3.0 in /usr/local/lib/python3.10/dist-packages (from typing-inspect<1,>=0.4.0->dataclasses-json->unstructured) (1.0.0)\n",
      "Requirement already satisfied: pycparser in /usr/local/lib/python3.10/dist-packages (from cffi>=1.12->cryptography>=3.1->unstructured-client->unstructured) (2.22)\n",
      "Requirement already satisfied: exceptiongroup in /usr/local/lib/python3.10/dist-packages (from anyio->httpx>=0.27.0->unstructured-client->unstructured) (1.2.2)\n",
      "Downloading unstructured-0.16.5-py3-none-any.whl (1.7 MB)\n",
      "\u001B[2K   \u001B[90m━━━━━━━━━━━━━━━━━━━━━━━━━━━━━━━━━━━━━━━━\u001B[0m \u001B[32m1.7/1.7 MB\u001B[0m \u001B[31m58.7 MB/s\u001B[0m eta \u001B[36m0:00:00\u001B[0m\n",
      "\u001B[?25hDownloading backoff-2.2.1-py3-none-any.whl (15 kB)\n",
      "Downloading emoji-2.14.0-py3-none-any.whl (586 kB)\n",
      "\u001B[2K   \u001B[90m━━━━━━━━━━━━━━━━━━━━━━━━━━━━━━━━━━━━━━━━\u001B[0m \u001B[32m586.9/586.9 kB\u001B[0m \u001B[31m38.8 MB/s\u001B[0m eta \u001B[36m0:00:00\u001B[0m\n",
      "\u001B[?25hDownloading filetype-1.2.0-py2.py3-none-any.whl (19 kB)\n",
      "Downloading python_iso639-2024.10.22-py3-none-any.whl (274 kB)\n",
      "\u001B[2K   \u001B[90m━━━━━━━━━━━━━━━━━━━━━━━━━━━━━━━━━━━━━━━━\u001B[0m \u001B[32m274.9/274.9 kB\u001B[0m \u001B[31m21.2 MB/s\u001B[0m eta \u001B[36m0:00:00\u001B[0m\n",
      "\u001B[?25hDownloading python_magic-0.4.27-py2.py3-none-any.whl (13 kB)\n",
      "Downloading python_oxmsg-0.0.1-py3-none-any.whl (31 kB)\n",
      "Downloading rapidfuzz-3.10.1-cp310-cp310-manylinux_2_17_x86_64.manylinux2014_x86_64.whl (3.1 MB)\n",
      "\u001B[2K   \u001B[90m━━━━━━━━━━━━━━━━━━━━━━━━━━━━━━━━━━━━━━━━\u001B[0m \u001B[32m3.1/3.1 MB\u001B[0m \u001B[31m72.0 MB/s\u001B[0m eta \u001B[36m0:00:00\u001B[0m\n",
      "\u001B[?25hDownloading unstructured_client-0.27.0-py3-none-any.whl (59 kB)\n",
      "\u001B[2K   \u001B[90m━━━━━━━━━━━━━━━━━━━━━━━━━━━━━━━━━━━━━━━━\u001B[0m \u001B[32m59.9/59.9 kB\u001B[0m \u001B[31m4.7 MB/s\u001B[0m eta \u001B[36m0:00:00\u001B[0m\n",
      "\u001B[?25hDownloading jsonpath_python-1.0.6-py3-none-any.whl (7.6 kB)\n",
      "Downloading pypdf-5.1.0-py3-none-any.whl (297 kB)\n",
      "\u001B[2K   \u001B[90m━━━━━━━━━━━━━━━━━━━━━━━━━━━━━━━━━━━━━━━━\u001B[0m \u001B[32m298.0/298.0 kB\u001B[0m \u001B[31m26.3 MB/s\u001B[0m eta \u001B[36m0:00:00\u001B[0m\n",
      "\u001B[?25hDownloading olefile-0.47-py2.py3-none-any.whl (114 kB)\n",
      "\u001B[2K   \u001B[90m━━━━━━━━━━━━━━━━━━━━━━━━━━━━━━━━━━━━━━━━\u001B[0m \u001B[32m114.6/114.6 kB\u001B[0m \u001B[31m11.3 MB/s\u001B[0m eta \u001B[36m0:00:00\u001B[0m\n",
      "\u001B[?25hBuilding wheels for collected packages: langdetect\n",
      "  Building wheel for langdetect (setup.py) ... \u001B[?25l\u001B[?25hdone\n",
      "  Created wheel for langdetect: filename=langdetect-1.0.9-py3-none-any.whl size=993222 sha256=6994616651dad7c33fbfc2e6890c58338571507bd4602af5f5d8dd02d04fad49\n",
      "  Stored in directory: /root/.cache/pip/wheels/95/03/7d/59ea870c70ce4e5a370638b5462a7711ab78fba2f655d05106\n",
      "Successfully built langdetect\n",
      "Installing collected packages: filetype, rapidfuzz, python-magic, python-iso639, pypdf, olefile, langdetect, jsonpath-python, emoji, backoff, python-oxmsg, unstructured-client, unstructured\n",
      "Successfully installed backoff-2.2.1 emoji-2.14.0 filetype-1.2.0 jsonpath-python-1.0.6 langdetect-1.0.9 olefile-0.47 pypdf-5.1.0 python-iso639-2024.10.22 python-magic-0.4.27 python-oxmsg-0.0.1 rapidfuzz-3.10.1 unstructured-0.16.5 unstructured-client-0.27.0\n"
     ]
    }
   ]
  },
  {
   "cell_type": "code",
   "source": [
    "from langchain_community.document_loaders import UnstructuredURLLoader\n",
    "from langchain.text_splitter import RecursiveCharacterTextSplitter"
   ],
   "metadata": {
    "id": "1NV-4d4Gt7zG"
   },
   "execution_count": 10,
   "outputs": []
  },
  {
   "cell_type": "code",
   "source": [
    "urls = [\"https://numl.edu.pk/admission/fee\",\"https://numl.edu.pk/admissions\"]\n",
    "loader = UnstructuredURLLoader(urls=urls)\n",
    "data =loader.load()"
   ],
   "metadata": {
    "id": "_CWz-L1HuljI"
   },
   "execution_count": 101,
   "outputs": []
  },
  {
   "cell_type": "code",
   "source": [
    "data"
   ],
   "metadata": {
    "colab": {
     "base_uri": "https://localhost:8080/"
    },
    "id": "9xwRoHbxu2uz",
    "outputId": "79ca6d92-69a3-4168-9e37-9230be7b779f"
   },
   "execution_count": 102,
   "outputs": [
    {
     "output_type": "execute_result",
     "data": {
      "text/plain": [
       "[Document(metadata={'source': 'https://numl.edu.pk/admission/fee'}, page_content=\"NUML\\n\\nAdmissions\\n\\nOnline Language Courses\\n\\nRector's Suggestion Box\\n\\nStudent Portal\\n\\nTranslation Services\\n\\nLatest Events\\n\\nHome\\n\\nAbout\\n\\nHistory\\n\\nCore Values\\n\\nVision and Mission\\n\\nObjectives\\n\\nBoard of Governors\\n\\nRector\\n\\nDirector General\\n\\nCampuses\\n\\nFaisalabad\\n\\nHyderabad\\n\\nKarachi\\n\\nLahore\\n\\nMirpur (Azad Kashmir)\\n\\nMultan\\n\\nPeshawar\\n\\nQuetta\\n\\nRawalpindi\\n\\nFaculties\\n\\nFaculty of Engineering and Computing\\n\\nDepartment of Computer Science\\n\\nDepartment of Electrical Engineering\\n\\nDepartment of Mathematics\\n\\nDepartment of Software Engineering\\n\\nFaculty of Languages\\n\\nDepartment of Arabic\\n\\nDepartment of Chinese\\n\\nDepartment of English Language Teaching (ELT)\\n\\nDepartment of French\\n\\nDepartment of German\\n\\nDepartment of Italian\\n\\nDepartment of Japanese\\n\\nDepartment of Korean Language & Culture\\n\\nDepartment of Pakistani Languages\\n\\nDepartment of Persian\\n\\nDepartment of Russian\\n\\nDepartment of South Asian Languages\\n\\nDepartment of Spanish\\n\\nDepartment of Translation & Interpretation\\n\\nDepartment of Turkish Studies\\n\\nDepartment of Urdu\\n\\nFaculty of Management Sciences\\n\\nDepartment of Accounting and Finance\\n\\nDepartment of Economics\\n\\nDepartment of Management Science\\n\\nFaculty of Social Sciences\\n\\nDepartment of Applied Psychology\\n\\nDepartment of Educational Sciences\\n\\nDepartment of Governance & Public Policy\\n\\nDepartment of International Relations\\n\\nDepartment of Islamic Thought and Culture\\n\\nDepartment of Media and Communication Studies\\n\\nDepartment of Pakistan Studies\\n\\nDepartment of Peace & Conflict Studies\\n\\nFaculty of Arts and Humanities\\n\\nDepartment of English GS\\n\\nDepartment of English UGS\\n\\nConfucius Institute\\n\\nDepartment of Area Studies\\n\\nDepartment of Confucius\\n\\nIslamabad King Sejong Institute\\n\\nIslamabad King Sejong Institute\\n\\nAdmissions\\n\\nAdmissions Home\\n\\nOnline Admissions\\n\\nFee Structure\\n\\nEligibility Criteria\\n\\nAdmission Schedule\\n\\nAcademic Calendar\\n\\nAdvertisement\\n\\nModel Papers\\n\\nFAQs\\n\\nAcademics\\n\\nAcademics Branch\\n\\nStudent Services\\n\\nAdmission Policy / Procedure\\n\\nMigration / Credit Transfer\\n\\nFee Refund\\n\\nChange of Shift\\n\\nFreezing of Semester\\n\\nStudents Mandatory Attendance\\n\\nTransfer of Students within NUML Campuses\\n\\nReserved Seats & Scholarship Policy\\n\\nRepeat / NOC/Bonafied Certificate Procedure\\n\\nUndergraduate Programs\\n\\nPost Graduate Programs\\n\\nPhD Programs\\n\\nFunctional Courses\\n\\nDiplomas\\n\\nOnline Teaching\\n\\nDownloads\\n\\nProforma for Migration / NOC\\n\\nProforma for Attendance / Character Certificate\\n\\nProforma for Campus Change\\n\\nProforma for Bonafide Certificate\\n\\nProforma for applicants with Disabilities\\n\\nOffices\\n\\nRector Office\\n\\nDirector General Office\\n\\nRSI Research & Strategic Initiatives\\n\\nRegistrar Office\\n\\nBureau of Translation and Interpretation Office\\n\\nAdministration Branch\\n\\nHR Branch\\n\\nAcademics Branch\\n\\nDirectorate of Advanced Studies and Research\\n\\nFinance Branch\\n\\nP&C Branch\\n\\nExamination Branch\\n\\nICT Office\\n\\nBICON\\n\\nQEC\\n\\nITCON\\n\\nPublication Branch\\n\\nCMR\\n\\nStudent Affairs Branch\\n\\nSir Syed Library\\n\\nTechnical Branch\\n\\nSports Branch\\n\\nResearch & SI\\n\\nQEC\\n\\nStudent Resources\\n\\nLearning Managment System (LMS)\\n\\nStudent Clearance Portal\\n\\nAcademic Calendar\\n\\nYouth Development Center (YDC)\\n\\nResult\\n\\nDatesheet\\n\\nTimetable\\n\\nScholarships\\n\\nDownloads\\n\\nExaminations Rules - 2023\\n\\nDisability Coordinators\\n\\nLife @ NUML\\n\\nSocial Media\\n\\nFacebook\\n\\nTwitter\\n\\nYoutube\\n\\nLinkedin\\n\\nInstagram\\n\\nGallery\\n\\nFacilities\\n\\nSocieties\\n\\nSuccess Stories\\n\\nClimate Action Plan\\n\\nRepository\\n\\nAnnual Reports\\n\\nAcademic Calendars\\n\\nEvent Repository\\n\\nSDGs Report\\n\\nMain Campus Regular Course's Fee Structure\\n\\nNational University of Modern Languages\\n\\nH-9 Islamabad ,Pakistan\\n\\n+92-51-9265100\\n\\ninfo@numl.edu.pk\\n\\nAbout\\n\\nAdmission\\n\\nGallery\\n\\nScholarships\\n\\nJobs\\n\\nDownloads\\n\\nTenders\\n\\nOnline Resources\\n\\nDegree Equivalence System\\n\\nB ICON Traning Feedback Form\\n\\nAccess of Publications\\n\\nPsychological Counselling Centre\\n\\nBICON - Idea Registration\\n\\nExamination Rules – 2023\\n\\nAlumni Employment Survey 2024\\n\\nB ICON Trainers/mentors Form\\n\\nNUML Faculty Abstract of Theses\\n\\nDirectory of Theses\\n\\nDegree Attestation System\\n\\nQuick Links\\n\\nSuccess Stories\\n\\nResults\\n\\nDownloads\\n\\nOnline QEC\\n\\nE - Registration\\n\\nStudent Clearance\\n\\nTenders\\n\\nDatesheets\\n\\nNUML RTI Compliance\\n\\nOPAC\\n\\nLMS\\n\\nNEWS\\n\\nCampuses\\n\\nFaisalabad\\n\\nMirpur AJK\\n\\nKarachi\\n\\nHyderabad\\n\\nPeshawar\\n\\nRawalpindi\\n\\nQuetta\\n\\nLahore\\n\\nMultan\\n\\n2024 © NUML All Rights Reserved developed by ICT Department | Privacy Policy\"),\n",
       " Document(metadata={'source': 'https://numl.edu.pk/admissions'}, page_content=\"NUML\\n\\nAdmissions\\n\\nOnline Language Courses\\n\\nRector's Suggestion Box\\n\\nStudent Portal\\n\\nTranslation Services\\n\\nLatest Events\\n\\nHome\\n\\nAbout\\n\\nHistory\\n\\nCore Values\\n\\nVision and Mission\\n\\nObjectives\\n\\nBoard of Governors\\n\\nRector\\n\\nDirector General\\n\\nCampuses\\n\\nFaisalabad\\n\\nHyderabad\\n\\nKarachi\\n\\nLahore\\n\\nMirpur (Azad Kashmir)\\n\\nMultan\\n\\nPeshawar\\n\\nQuetta\\n\\nRawalpindi\\n\\nFaculties\\n\\nFaculty of Engineering and Computing\\n\\nDepartment of Computer Science\\n\\nDepartment of Electrical Engineering\\n\\nDepartment of Mathematics\\n\\nDepartment of Software Engineering\\n\\nFaculty of Languages\\n\\nDepartment of Arabic\\n\\nDepartment of Chinese\\n\\nDepartment of English Language Teaching (ELT)\\n\\nDepartment of French\\n\\nDepartment of German\\n\\nDepartment of Italian\\n\\nDepartment of Japanese\\n\\nDepartment of Korean Language & Culture\\n\\nDepartment of Pakistani Languages\\n\\nDepartment of Persian\\n\\nDepartment of Russian\\n\\nDepartment of South Asian Languages\\n\\nDepartment of Spanish\\n\\nDepartment of Translation & Interpretation\\n\\nDepartment of Turkish Studies\\n\\nDepartment of Urdu\\n\\nFaculty of Management Sciences\\n\\nDepartment of Accounting and Finance\\n\\nDepartment of Economics\\n\\nDepartment of Management Science\\n\\nFaculty of Social Sciences\\n\\nDepartment of Applied Psychology\\n\\nDepartment of Educational Sciences\\n\\nDepartment of Governance & Public Policy\\n\\nDepartment of International Relations\\n\\nDepartment of Islamic Thought and Culture\\n\\nDepartment of Media and Communication Studies\\n\\nDepartment of Pakistan Studies\\n\\nDepartment of Peace & Conflict Studies\\n\\nFaculty of Arts and Humanities\\n\\nDepartment of English GS\\n\\nDepartment of English UGS\\n\\nConfucius Institute\\n\\nDepartment of Area Studies\\n\\nDepartment of Confucius\\n\\nIslamabad King Sejong Institute\\n\\nIslamabad King Sejong Institute\\n\\nAdmissions\\n\\nAdmissions Home\\n\\nOnline Admissions\\n\\nFee Structure\\n\\nEligibility Criteria\\n\\nAdmission Schedule\\n\\nAcademic Calendar\\n\\nAdvertisement\\n\\nModel Papers\\n\\nFAQs\\n\\nAcademics\\n\\nAcademics Branch\\n\\nStudent Services\\n\\nAdmission Policy / Procedure\\n\\nMigration / Credit Transfer\\n\\nFee Refund\\n\\nChange of Shift\\n\\nFreezing of Semester\\n\\nStudents Mandatory Attendance\\n\\nTransfer of Students within NUML Campuses\\n\\nReserved Seats & Scholarship Policy\\n\\nRepeat / NOC/Bonafied Certificate Procedure\\n\\nUndergraduate Programs\\n\\nPost Graduate Programs\\n\\nPhD Programs\\n\\nFunctional Courses\\n\\nDiplomas\\n\\nOnline Teaching\\n\\nDownloads\\n\\nProforma for Migration / NOC\\n\\nProforma for Attendance / Character Certificate\\n\\nProforma for Campus Change\\n\\nProforma for Bonafide Certificate\\n\\nProforma for applicants with Disabilities\\n\\nOffices\\n\\nRector Office\\n\\nDirector General Office\\n\\nRSI Research & Strategic Initiatives\\n\\nRegistrar Office\\n\\nBureau of Translation and Interpretation Office\\n\\nAdministration Branch\\n\\nHR Branch\\n\\nAcademics Branch\\n\\nDirectorate of Advanced Studies and Research\\n\\nFinance Branch\\n\\nP&C Branch\\n\\nExamination Branch\\n\\nICT Office\\n\\nBICON\\n\\nQEC\\n\\nITCON\\n\\nPublication Branch\\n\\nCMR\\n\\nStudent Affairs Branch\\n\\nSir Syed Library\\n\\nTechnical Branch\\n\\nSports Branch\\n\\nResearch & SI\\n\\nQEC\\n\\nStudent Resources\\n\\nLearning Managment System (LMS)\\n\\nStudent Clearance Portal\\n\\nAcademic Calendar\\n\\nYouth Development Center (YDC)\\n\\nResult\\n\\nDatesheet\\n\\nTimetable\\n\\nScholarships\\n\\nDownloads\\n\\nExaminations Rules - 2023\\n\\nDisability Coordinators\\n\\nLife @ NUML\\n\\nSocial Media\\n\\nFacebook\\n\\nTwitter\\n\\nYoutube\\n\\nLinkedin\\n\\nInstagram\\n\\nGallery\\n\\nFacilities\\n\\nSocieties\\n\\nSuccess Stories\\n\\nClimate Action Plan\\n\\nRepository\\n\\nAnnual Reports\\n\\nAcademic Calendars\\n\\nEvent Repository\\n\\nSDGs Report\\n\\nEmail : admissions@numl.edu.pk\\n\\nIn case of any query\\n\\nTelephone :\\n\\n051-9265118-9265119\\n\\nPABX :\\n\\n051-9265100-10\\n\\nExtensions :\\n\\n2402, 2403, 2404, 2406, 2407,2401, 2409\\n\\nNUML ADMISSIONS SPRING 2025\\n\\nImportant Dates:\\n\\nApply Online\\n\\nEvents Dates Undergraduate/MS/MPhil/PhD/Functional Courses - Registration open November 11, 2024 Deadline for Submission of Online Applications December 04, 2024 Start of Classes February 03, 2025 Start of Classes –  Weekend Programs February 08, 2025\\n\\nAdvertisement SPRING 2025 Advertisement Summer 2024 Eligibility Criteria Fee Schedule Regular Courses Model Papers Staff Login >> Advertisement Summer 2022 Fee Schedule Summer Courses\\n\\nEntry Test Schedule (Spring 2025): Click here to view\\n\\nIMPORTANT DATES TO REMEMBER\\n\\nRegular Admissions -\\xa0 Spring 2025 Dates Undergraduate/MS/MPhil/PhD/Functional Courses - Registration open November 11, 2024 Deadline for Submission of Online Applications – Main Campus December 04, 2024 Entrance Test (All Degree Programs / Functional Courses) December 07 - 08, 2024 Display of Lists for Interviews December 16, 2024 Interviews (Degree Programs / Functional Courses) December 19 - 24, 2024 Display of Merit List January 02, 2025 Fee Submission January 02-10, 2025 Start of Classes February 03, 2025 Start of Classes – Weekend Programs February 08, 2025\\n\\nEligible Candidates will be issued Admit Card for Entry Test only after due verification of documents and eligibility criteria as per advertisement. In case of any query, please call at 051-9265118, 051-9265119 or email at admissions@numl.edu.pk.\\n\\nGENERAL INSTRUCTIONS\\n\\nINSTRUCTIONS FOR REGULAR ADMISSIONS (Spring 2025):\\n\\nIt is mandatory for the candidates applying for BS / BBA (Hons) programs to provide an IBCC verified QR documents at the time of interviews.\\n\\nThe candidates having foreign / ‘O’ / ‘A’ level qualification have to apply for admission subject to provision of equivalence certificate from IBCC.\\n\\nProvisional Admissions (Result awaiting): The students admitted on provisional basis in BS / BBA (Hons) Programs are required to provide result card duly verified from IBCC with QR verification within 7 days of commencement of the classes, otherwise, their admission will stand cancelled without further notice / refund. No provisional admissions will be entertained in MS/MPhil/PhD, MBA, BS Bridging, ADCP and Functional programs.\\n\\nFee Structure: Complete Fee Structure is available at NUML website.\\n\\nFee Refund Policy: 100% fee refund if claimed (mandatory in writing) within 1st week, 50% within 2nd week, no refund after fifteen (15) days of commencement of semester. However, the students on provisional admission (For result awaited only) failing to obtain the required percentage as per eligibility criteria advertised will be refunded 100% of fee if they claim for refund (mandatory in writing) within 7 days of declaration/announcement of the result by the concerned board/university.\\n\\nCancellation of Admission: The applicants are advised to confirm eligibility before online processing of admission form. Admission will be cancelled without any refund (Except security fee) at any stage if a candidate/student is found ineligible as per advertisement OR any degree / certificate proves to be faked / unrecognized.\\n\\nSchedule of GAT / Entrance Test & Interviews etc.: Entrance Tests / GAT (General / Subject) are scheduled to be held on December 07 - 08, 2024. Calendar of Events / Instructions for admission is displayed on NUML website. However, it is the responsibility of the applicant to check the exact Date & Time for test / interview through admission portal.\\n\\nIslamabad: Director Academics, NUML, Sector H-9, Islamabad. Telephone: (051-9265118,051-9265119), PABX:051- 9265100-10 (with extensions: 2504, 2402, 2403, 2404, 2406, 2407, 2401, 2409)\\n\\nRawalpindi: Khadim Hussain Road, Rawalpindi Cantt. Telephone: (051-5567125,051-5794512,051-8436060)\\n\\nINSTRUCTIONS FOR FORM FILLING (REGULAR ADMISSIONS):\\n\\nOnline Admission: a. Please visit NUML admission website: onlineadmission.numl.edu.pk and apply online. Scanned copies of photograph (passport size with blue background) and other documents should be attached as specified in online admission form b. An applicant can opt for priorities within the same faculty on 1 x admission form. Entry test will be allowed on priority-1, which automatically be considered for next priority on merit. In case of priorities in different programs, appearing in interview of each program is mandatory. Admission will be subject to selection on merit and availability of seat. c. Admission Processing Fee: Rs.2000/- (Non-refundable) d. For opting priority in other faculty, a separate admission form / processing fee will applicable. Other terms & conditions will remain the same. e. No priority will be allowed in MS / MPhil / PhD and Functional level programs.\\n\\nNUML GAT Fee: Applicant for MS/MPhil/PhD programs availing NUML devised GAT will also have to deposit Rs.1200 as GAT fee.\\n\\nIncomplete applications/ received after due date will not be accepted / entertained.\\n\\nFACILITIES AVAILABLE:\\n\\nNote:\\n\\nUniversity is not bound to start a program in a particular discipline if it finds any constraint.\\n\\nNUML will follow the instructions / SoPs of Government of Pakistan regarding COVID-19.\\n\\nFor queries / information: admissions@numl.edu.pk\\n\\nCareer Counselling: Available in the department of ORIC, NUML.\\n\\nDisability Coordinators - NUML:\\n\\nMr. Raja Kamran, Advisor Student Affairs (Male), +9251-9265100 (Extension: 2021), rkamran@numl.edu.pk\\n\\nDr. Saira Nudrat, Advisor Student Affairs (Female), +9251-9265100 (Extension: 2021), snudrat@numl.edu.pk\\n\\nSpecial Quota: 5% seats in each BS program have been reserved for war wounded personnel of Armed/Civil Forces and 10% seats for FATA / Baluchistan subject to the following conditions. a. All NUML rules are applicable. b. Minimum eligibility criteria is admissible. c. Test/interviews as per NUML Schedule. d. No Fee Concessions. e. ii. Limited seats are available in Undergraduate programs for Provincial / National and International certificate holders in Sports, Debate, Qirat, Nat, Poetry, Calligraphy, Singing, Dramatics and Painting for which an additional processing fee of Rs.1000/- will also be submitted by the applicant. The candidates selected on sports quota will be awarded scholarship with 100% fee waiver and free hostel accommodation.\\n\\nScholarships for Position Holders:\\n\\ni. 100% Tuition Fee Waiver: Available to the top three position holders from any Board at HSSC level at both the Main and Regional campuses subject to prevailing institutional conditions. ii. 50% Tuition Fee Waiver: Available to students at Regional campuses who have achieved a score of 80% or above at the HSSC level subject to prevailing institutional conditions.\\n\\nTuition Fee Waiver for NUML Alumni: 25% tuition fee waiver for NUML Alumni (with a CGPA of 3.0 or above) seeking admission into MS / MPhil / PhD Program (Level-7 & Level-8).\\n\\nNeed Based Scholarships: Need based scholarship is offered to the selected/ deserving students that includes tuition fee and monthly stipend.\\n\\nHostel Facility: Limited hostel accommodation is available at Main Campus Islamabad. Students can collect hostel application form from the office of Director Students Affairs after submission of semester / course fee.\\n\\nTransport Facility: This facility is available for specific routes in Rawalpindi / Islamabad and Wah / Taxila on payment.\\n\\nCampuses:\\n\\nISLAMABAD NUML RAWALPINDI PESHAWAR MULTAN FAISALABAD Director Academics NUML, Sector H-9, Islamabad Tele: 051-9265118, 051-9265119, PABX 051-9265100-10 Ext # 2402, 2403, 2404, 2406, 2407, 2401,\\xa02409 Khadim Hussain Road, Rawalpindi Cantt. Pakistan. Tele:051-5567125, 051-5794512,\\xa0 051- 5522469, 051- 5510215 Regional Director NUML, 36-B, Chinar Road, University Town, Peshawar Tele:091-9218380-81 Regional Director NUML, 21- E, Officers Colony, Khanewal Road, Multan Tele:061-9330461, 061-6510595, 0321-6510595 Regional Director NUML, 05 Kilo Meter, Main Jaranwala Road, Near Police Station Saddar, Faisalabad Tele:0304-1138532, 041-9330572, 041-2422572 HYDERABAD KARACHI LAHORE QUETTA MIRPUR (AJ&K) Regional Director National University of Modern Languages Hyderabad Campus Unit No: 09 Latifabad, Hyderabad Tele:022-3820489, 022-3820490, 022-3820491 Regional Director NUML, St-3. Block-K, North Nazimabad, Karachi Tele:021-36721027 Regional Director NUML, Block-3, 2nd Floor, Aiwan-e-Iqbal, Egerton Road, Lahore Tele:042-99204588, 042-99202636 Regional Director NUML, Koila Phatak, Quetta Tele:081-2870212 Regional Director NUML, New City Mirpur, Azad Jammu and Kashmir Tele: 05827-940512 - 14\\n\\nAdvertisement FALL 2022\\n\\nRegistration for admission (MS/ MPhil/PhD/ Undergraduate/Functional Courses) of session fall 2022 will be opened from June, 5th 2022.\\n\\nNational University of Modern Languages\\n\\nH-9 Islamabad ,Pakistan\\n\\n+92-51-9265100\\n\\ninfo@numl.edu.pk\\n\\nAbout\\n\\nAdmission\\n\\nGallery\\n\\nScholarships\\n\\nJobs\\n\\nDownloads\\n\\nTenders\\n\\nOnline Resources\\n\\nDegree Attestation System\\n\\nAlumni Employment Survey 2024\\n\\nAccess of Publications\\n\\nNUML Faculty Abstract of Theses\\n\\nExamination Rules – 2023\\n\\nDegree Equivalence System\\n\\nPsychological Counselling Centre\\n\\nB ICON Traning Feedback Form\\n\\nB ICON Trainers/mentors Form\\n\\nBICON - Idea Registration\\n\\nDirectory of Theses\\n\\nQuick Links\\n\\nE - Registration\\n\\nTask Management System\\n\\nNUML RTI Compliance\\n\\nTenders\\n\\nScholarships\\n\\nDownloads\\n\\nThesis Defence\\n\\nPlacement System\\n\\nHigh Achievers\\n\\nProfessional Trainings\\n\\nDatesheets\\n\\nOnline QEC\\n\\nCampuses\\n\\nKarachi\\n\\nHyderabad\\n\\nPeshawar\\n\\nLahore\\n\\nMirpur AJK\\n\\nMultan\\n\\nFaisalabad\\n\\nRawalpindi\\n\\nQuetta\\n\\n2024 © NUML All Rights Reserved developed by ICT Department | Privacy Policy\")]"
      ]
     },
     "metadata": {},
     "execution_count": 102
    }
   ]
  },
  {
   "cell_type": "code",
   "source": [
    "text_splitter = RecursiveCharacterTextSplitter(chunk_size=1000, chunk_overlap=50)\n",
    "docs = text_splitter.split_documents(data)\n"
   ],
   "metadata": {
    "id": "gGNec41rvFp1"
   },
   "execution_count": 103,
   "outputs": []
  },
  {
   "cell_type": "code",
   "source": [
    "len(docs)"
   ],
   "metadata": {
    "colab": {
     "base_uri": "https://localhost:8080/"
    },
    "id": "sbXweQg3wmm-",
    "outputId": "9c92e8d8-c1fc-4ba2-b8b5-58f510d11b78"
   },
   "execution_count": 104,
   "outputs": [
    {
     "output_type": "execute_result",
     "data": {
      "text/plain": [
       "23"
      ]
     },
     "metadata": {},
     "execution_count": 104
    }
   ]
  },
  {
   "cell_type": "code",
   "source": [
    "%pip install --upgrade --quiet  langchain-google-genai"
   ],
   "metadata": {
    "id": "7D0d7zFewoC7"
   },
   "execution_count": 79,
   "outputs": []
  },
  {
   "cell_type": "code",
   "source": [
    "import os\n",
    "\n",
    "if 'GOOGLE_API_KEY' not in os.environ:\n",
    "    os.environ['GOOGLE_API_KEY'] = 'AIzaS-0000000000000000g5-tMhE' #this api will not work in your case use your own api key"
   ],
   "metadata": {
    "id": "2Pz9VWJkxWOv"
   },
   "execution_count": 81,
   "outputs": []
  },
  {
   "cell_type": "code",
   "source": [
    "from langchain_google_genai import GoogleGenerativeAIEmbeddings\n",
    "from langchain.vectorstores import FAISS"
   ],
   "metadata": {
    "id": "E5K-jc-gxrZm"
   },
   "execution_count": 82,
   "outputs": []
  },
  {
   "cell_type": "code",
   "source": [
    "embeddings =  GoogleGenerativeAIEmbeddings(model=\"models/embedding-001\")"
   ],
   "metadata": {
    "id": "9dvd1YeyyBzj"
   },
   "execution_count": 105,
   "outputs": []
  },
  {
   "cell_type": "code",
   "source": [
    "vector = embeddings.embed_query(text=\"hellow\")\n",
    "vector[:5]     #just to show embedding or working perfectly"
   ],
   "metadata": {
    "colab": {
     "base_uri": "https://localhost:8080/"
    },
    "id": "let6isMKyfsp",
    "outputId": "517ed06c-390b-4ffd-a949-e73c5e6a0d58"
   },
   "execution_count": 106,
   "outputs": [
    {
     "output_type": "execute_result",
     "data": {
      "text/plain": [
       "[0.04506610706448555,\n",
       " -0.012045192532241344,\n",
       " -0.03724367544054985,\n",
       " -0.0501895472407341,\n",
       " 0.01675182208418846]"
      ]
     },
     "metadata": {},
     "execution_count": 106
    }
   ]
  },
  {
   "cell_type": "code",
   "source": [
    "from langchain.vectorstores import FAISS\n",
    "vectorstores = FAISS.from_documents(documents=docs,embedding=embeddings)"
   ],
   "metadata": {
    "id": "2IzclS7cywY5"
   },
   "execution_count": 107,
   "outputs": []
  },
  {
   "cell_type": "code",
   "source": [
    "vectorstores"
   ],
   "metadata": {
    "colab": {
     "base_uri": "https://localhost:8080/"
    },
    "id": "X3rPqvQRzyJi",
    "outputId": "3ce4cb80-c852-4e56-fb40-2bc1ccef735c"
   },
   "execution_count": 55,
   "outputs": [
    {
     "output_type": "execute_result",
     "data": {
      "text/plain": [
       "<langchain_community.vectorstores.faiss.FAISS at 0x7c0e0983d540>"
      ]
     },
     "metadata": {},
     "execution_count": 55
    }
   ]
  },
  {
   "cell_type": "code",
   "source": [
    "retriver = vectorstores.as_retriever(search_type='similarity',search_kwargs={'k':3})\n"
   ],
   "metadata": {
    "id": "KtYG_2ybzqDa"
   },
   "execution_count": 108,
   "outputs": []
  },
  {
   "cell_type": "code",
   "source": [
    "result = retriver.invoke(\"is numl offer bs german?\")\n",
    "print(result[0].page_content)"
   ],
   "metadata": {
    "colab": {
     "base_uri": "https://localhost:8080/"
    },
    "id": "nBFXyxx60BdE",
    "outputId": "b36c829e-454e-4338-f217-7e33dc03b902"
   },
   "execution_count": 121,
   "outputs": [
    {
     "output_type": "stream",
     "name": "stdout",
     "text": [
      "It is mandatory for the candidates applying for BS / BBA (Hons) programs to provide an IBCC verified QR documents at the time of interviews.\n",
      "\n",
      "The candidates having foreign / ‘O’ / ‘A’ level qualification have to apply for admission subject to provision of equivalence certificate from IBCC.\n",
      "\n",
      "Provisional Admissions (Result awaiting): The students admitted on provisional basis in BS / BBA (Hons) Programs are required to provide result card duly verified from IBCC with QR verification within 7 days of commencement of the classes, otherwise, their admission will stand cancelled without further notice / refund. No provisional admissions will be entertained in MS/MPhil/PhD, MBA, BS Bridging, ADCP and Functional programs.\n",
      "\n",
      "Fee Structure: Complete Fee Structure is available at NUML website.\n"
     ]
    }
   ]
  },
  {
   "cell_type": "code",
   "source": [
    "\n",
    "from langchain_google_genai import ChatGoogleGenerativeAI\n",
    "llm = ChatGoogleGenerativeAI(model=\"gemini-1.5-pro\", temperature=0.3,max_tokens=500)"
   ],
   "metadata": {
    "id": "USImp1Gm0MfS"
   },
   "execution_count": null,
   "outputs": []
  },
  {
   "cell_type": "code",
   "source": [
    "from langchain_google_genai import ChatGoogleGenerativeAI\n",
    "llm = ChatGoogleGenerativeAI(model=\"gemini-1.5-pro\", temperature=0.3,max_tokens=500)"
   ],
   "metadata": {
    "id": "T_5c5pPQ8UUq"
   },
   "execution_count": 123,
   "outputs": []
  },
  {
   "cell_type": "code",
   "source": [
    "from langchain.prompts import ChatPromptTemplate\n",
    "from langchain.chains import create_retrieval_chain\n",
    "from langchain.chains.combine_documents import create_stuff_documents_chain\n",
    "\n",
    "\n",
    "system_prompt  = \"\"\"\n",
    "you are assistant for question answerig task.\n",
    "use the following peice to retrived context to answer.\n",
    "if you dont know the answer say that i dont have enough knowledge about the question.\n",
    "\\n\\n\n",
    "{context}\n",
    "\"\"\"\n",
    "\n",
    "prompt = ChatPromptTemplate.from_messages(\n",
    "    [\n",
    "        (\"system\", system_prompt),\n",
    "        (\"human\", \"{input}\"),\n",
    "    ]\n",
    ")"
   ],
   "metadata": {
    "id": "Uil5kAwF8kpd"
   },
   "execution_count": 125,
   "outputs": []
  },
  {
   "cell_type": "code",
   "source": [
    "rag_chain = create_retrieval_chain(\n",
    "    retriever=retriver,\n",
    "    combine_docs_chain=create_stuff_documents_chain(prompt=prompt,llm=llm),\n",
    "\n",
    ")"
   ],
   "metadata": {
    "id": "Ddui02FT9dsu"
   },
   "execution_count": 131,
   "outputs": []
  },
  {
   "cell_type": "code",
   "source": [
    "result=rag_chain.invoke({\"input\" : \"Do you know about rector of numl islamabad?\"})\n",
    "print(result['answer'])"
   ],
   "metadata": {
    "colab": {
     "base_uri": "https://localhost:8080/"
    },
    "id": "x7pjDNy0BFBx",
    "outputId": "475a1adb-90c8-43c8-e389-fffea12afd81"
   },
   "execution_count": 142,
   "outputs": [
    {
     "output_type": "stream",
     "name": "stdout",
     "text": [
      "This document mentions the positions of Rector and Director General at NUML, but it does not provide the names of the individuals holding those positions.  Therefore, I don't have enough information to answer who the rector of NUML Islamabad is.\n",
      "\n"
     ]
    }
   ]
  },
  {
   "cell_type": "code",
   "source": [],
   "metadata": {
    "id": "IyoWSPkKB1CK"
   },
   "execution_count": null,
   "outputs": []
  }
 ]
}
